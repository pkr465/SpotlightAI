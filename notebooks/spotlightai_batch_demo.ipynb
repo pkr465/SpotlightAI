{
 "cells": [
  {
   "cell_type": "markdown",
   "id": "35c6d1ff",
   "metadata": {},
   "source": [
    "# SpotlightAI Batch Demo\n",
    "Process a folder of OTT assets and produce promos using the agentic workflow."
   ]
  },
  {
   "cell_type": "code",
   "execution_count": null,
   "id": "63c103b9",
   "metadata": {},
   "outputs": [],
   "source": [
    "\n",
    "import os, asyncio, glob\n",
    "from pathlib import Path\n",
    "from dotenv import load_dotenv\n",
    "load_dotenv()\n",
    "\n",
    "from src.graph.builder import build_graph\n",
    "from src.graph.state import PromoState\n",
    "\n",
    "INPUT_DIR = os.getenv(\"BATCH_INPUT_DIR\", \"/path/to/ott/assets\")  # set in .env for convenience\n",
    "AUDIENCES = (os.getenv(\"BATCH_AUDIENCES\",\"genpop\")).split(\",\")\n",
    "TARGET_FORMATS = (os.getenv(\"BATCH_TARGET_FORMATS\",\"9:16,16:9\")).split(\",\")\n",
    "\n",
    "vids = []\n",
    "for ext in (\"*.mp4\",\"*.mkv\",\"*.mov\"):\n",
    "    vids.extend(glob.glob(str(Path(INPUT_DIR)/ext)))\n",
    "print(f\"Found {len(vids)} videos\")\n",
    "\n",
    "graph = build_graph()\n",
    "\n",
    "async def process_one(path):\n",
    "    # Using local path URI style for demo; storage adapter can fetch remote URIs too.\n",
    "    state = PromoState(\n",
    "        asset_uri=f\"local://{path}\",\n",
    "        campaign_id=\"cmp_batch\",\n",
    "        audiences=AUDIENCES,\n",
    "        target_formats=TARGET_FORMATS,\n",
    "        show_title=Path(path).stem,\n",
    "        logline=\"Batch processed asset.\"\n",
    "    )\n",
    "    # Storage.get() maps any URI to local cache; for local://, just copy/alias if you extend it.\n",
    "    out = await graph.ainvoke(state)\n",
    "    print(Path(path).name, \"->\", out.published_uri, out.metadata.get(\"ar_variants\"))\n",
    "\n",
    "async def main():\n",
    "    for v in vids:\n",
    "        await process_one(v)\n",
    "\n",
    "await main()\n"
   ]
  }
 ],
 "metadata": {},
 "nbformat": 4,
 "nbformat_minor": 5
}
